{
  "nbformat": 4,
  "nbformat_minor": 0,
  "metadata": {
    "colab": {
      "name": "ABC241",
      "provenance": [],
      "authorship_tag": "ABX9TyOeo190SRk/7Fa4Ug3tvGWU",
      "include_colab_link": true
    },
    "kernelspec": {
      "name": "python3",
      "display_name": "Python 3"
    },
    "language_info": {
      "name": "python"
    }
  },
  "cells": [
    {
      "cell_type": "markdown",
      "metadata": {
        "id": "view-in-github",
        "colab_type": "text"
      },
      "source": [
        "<a href=\"https://colab.research.google.com/github/yasukenn/Atcoder_ABC/blob/main/ABC241.ipynb\" target=\"_parent\"><img src=\"https://colab.research.google.com/assets/colab-badge.svg\" alt=\"Open In Colab\"/></a>"
      ]
    },
    {
      "cell_type": "markdown",
      "source": [
        "# **AtCoder Beginner Contest 241（Sponsored by Panasonic）**\n",
        "\n",
        "https://atcoder.jp/contests/abc241/tasks"
      ],
      "metadata": {
        "id": "lFXVD916CNXO"
      }
    },
    {
      "cell_type": "markdown",
      "source": [
        "# **A - Digit Machine**"
      ],
      "metadata": {
        "id": "lTxZYoGeCToX"
      }
    },
    {
      "cell_type": "code",
      "source": [
        "'''入力ゾーン'''\n",
        "a = list(map(int,input().split()))\t\n",
        "\n",
        "'''出力ゾーン'''\n",
        "print(a[a[a[0]]])"
      ],
      "metadata": {
        "colab": {
          "base_uri": "https://localhost:8080/"
        },
        "id": "TKSQUEMICNJ_",
        "outputId": "885e8929-2ad3-4e31-82f3-c4ba22089a4f"
      },
      "execution_count": 11,
      "outputs": [
        {
          "output_type": "stream",
          "name": "stdout",
          "text": [
            "9 0 1 2 3 4 5 6 7 8\n",
            "7\n"
          ]
        }
      ]
    },
    {
      "cell_type": "markdown",
      "source": [
        "最初は０が表示されるので１回目ボタン押すと、a[0]となる。\n",
        "\n",
        "後は、a[0]をが引数となり、重ねていけばよい。"
      ],
      "metadata": {
        "id": "xe1i0GMnGslR"
      }
    },
    {
      "cell_type": "markdown",
      "source": [
        "# **B - Pasta**"
      ],
      "metadata": {
        "id": "5f_ix9PhHELX"
      }
    },
    {
      "cell_type": "code",
      "source": [
        "'''入力ゾーン'''\n",
        "N,M = map(int,input().split()) #N：パスタ総数, M：計画期間\n",
        "A = list(map(int,input().split()))\t#A：パスタ長さリスト\n",
        "B = list(map(int,input().split()))\t#B：今日選びたい長さ\n",
        "\n",
        "\n",
        "'''出力ゾーン'''\n",
        "for b in B:\n",
        "  if b not in A:\n",
        "    print(\"No\")\n",
        "    exit() #実行終了\n",
        "  A.remove(b)\n",
        "\n",
        "print(\"Yes\")"
      ],
      "metadata": {
        "colab": {
          "base_uri": "https://localhost:8080/"
        },
        "id": "3sLqc6XuHD-E",
        "outputId": "0c8be336-5b6c-4706-cc2e-4aa2089db00d"
      },
      "execution_count": 1,
      "outputs": [
        {
          "output_type": "stream",
          "name": "stdout",
          "text": [
            "3 2\n",
            "1 1 3\n",
            "3 1\n",
            "Yes\n"
          ]
        }
      ]
    },
    {
      "cell_type": "markdown",
      "source": [
        "Bの方が短いので、for文の軸はここ。ここは全探索で問題ない。"
      ],
      "metadata": {
        "id": "uxpM2rUmT4yz"
      }
    },
    {
      "cell_type": "markdown",
      "source": [
        "# **C - Connect 6**"
      ],
      "metadata": {
        "id": "qj5g8qpQUJ3A"
      }
    },
    {
      "cell_type": "code",
      "source": [
        "'''入力ゾーン'''\n",
        "N=int(input())\n",
        "S=[] #appendのために宣言が必要\n",
        "for i in range(N):\n",
        "  Si = input()\n",
        "  S.append(Si)"
      ],
      "metadata": {
        "colab": {
          "base_uri": "https://localhost:8080/"
        },
        "id": "WCPRxD_PUGP7",
        "outputId": "697b5bcb-ff54-4dcd-a7aa-9c382c055544"
      },
      "execution_count": 7,
      "outputs": [
        {
          "output_type": "stream",
          "name": "stdout",
          "text": [
            "5\n",
            "f\n",
            "s\n",
            "q\n",
            "a\n",
            "a\n",
            "[['f'], ['s'], ['q'], ['a'], ['a']]\n"
          ]
        }
      ]
    }
  ]
}