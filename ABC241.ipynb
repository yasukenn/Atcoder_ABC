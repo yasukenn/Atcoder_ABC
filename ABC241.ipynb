{
  "nbformat": 4,
  "nbformat_minor": 0,
  "metadata": {
    "colab": {
      "name": "ABC241",
      "provenance": [],
      "authorship_tag": "ABX9TyP1mFTDfa9TUQQr67Q/P6OR",
      "include_colab_link": true
    },
    "kernelspec": {
      "name": "python3",
      "display_name": "Python 3"
    },
    "language_info": {
      "name": "python"
    }
  },
  "cells": [
    {
      "cell_type": "markdown",
      "metadata": {
        "id": "view-in-github",
        "colab_type": "text"
      },
      "source": [
        "<a href=\"https://colab.research.google.com/github/yasukenn/Atcoder_ABC/blob/main/ABC241.ipynb\" target=\"_parent\"><img src=\"https://colab.research.google.com/assets/colab-badge.svg\" alt=\"Open In Colab\"/></a>"
      ]
    },
    {
      "cell_type": "code",
      "execution_count": 1,
      "metadata": {
        "colab": {
          "base_uri": "https://localhost:8080/"
        },
        "id": "KvR0ltVlA_Pg",
        "outputId": "5ff6bdeb-2e8d-45c0-f1fb-67f0989a3c3a"
      },
      "outputs": [
        {
          "output_type": "stream",
          "name": "stdout",
          "text": [
            "ver2試験\n"
          ]
        }
      ],
      "source": [
        "print(\"ver2試験\")"
      ]
    }
  ]
}