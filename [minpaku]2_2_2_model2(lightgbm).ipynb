{
  "nbformat": 4,
  "nbformat_minor": 0,
  "metadata": {
    "colab": {
      "name": "[minpaku]2-2-2_model2(lightgbm) ",
      "provenance": [],
      "collapsed_sections": [],
      "authorship_tag": "ABX9TyPcDpPppiiZonMBbiPaua4B",
      "include_colab_link": true
    },
    "kernelspec": {
      "name": "python3",
      "display_name": "Python 3"
    },
    "language_info": {
      "name": "python"
    }
  },
  "cells": [
    {
      "cell_type": "markdown",
      "metadata": {
        "id": "view-in-github",
        "colab_type": "text"
      },
      "source": [
        "<a href=\"https://colab.research.google.com/github/yasukenn/Atcoder_ABC/blob/main/%5Bminpaku%5D2_2_2_model2(lightgbm).ipynb\" target=\"_parent\"><img src=\"https://colab.research.google.com/assets/colab-badge.svg\" alt=\"Open In Colab\"/></a>"
      ]
    },
    {
      "cell_type": "markdown",
      "source": [
        "# **0：ドライブマウント**"
      ],
      "metadata": {
        "id": "v5s8ypMxaxWo"
      }
    },
    {
      "cell_type": "code",
      "execution_count": 1,
      "metadata": {
        "id": "DZhwWhOHeN4c",
        "colab": {
          "base_uri": "https://localhost:8080/"
        },
        "outputId": "e4aaa221-2f45-4b69-fde6-df0d430b6206"
      },
      "outputs": [
        {
          "output_type": "stream",
          "name": "stdout",
          "text": [
            "Mounted at /content/drive\n"
          ]
        }
      ],
      "source": [
        "from google.colab import drive\n",
        "drive.mount('/content/drive')"
      ]
    },
    {
      "cell_type": "markdown",
      "source": [
        "# **1-1:インストールゾーン**"
      ],
      "metadata": {
        "id": "oB1t2IEqeG-9"
      }
    },
    {
      "cell_type": "code",
      "source": [
        "! pip install japanize-matplotlib"
      ],
      "metadata": {
        "id": "bxPbClxIeOX5",
        "colab": {
          "base_uri": "https://localhost:8080/"
        },
        "outputId": "71de6f91-6451-4757-9ca4-e75e88cfc55d"
      },
      "execution_count": 2,
      "outputs": [
        {
          "output_type": "stream",
          "name": "stdout",
          "text": [
            "Collecting japanize-matplotlib\n",
            "  Downloading japanize-matplotlib-1.1.3.tar.gz (4.1 MB)\n",
            "\u001b[K     |████████████████████████████████| 4.1 MB 14.8 MB/s \n",
            "\u001b[?25hRequirement already satisfied: matplotlib in /usr/local/lib/python3.7/dist-packages (from japanize-matplotlib) (3.2.2)\n",
            "Requirement already satisfied: pyparsing!=2.0.4,!=2.1.2,!=2.1.6,>=2.0.1 in /usr/local/lib/python3.7/dist-packages (from matplotlib->japanize-matplotlib) (3.0.7)\n",
            "Requirement already satisfied: kiwisolver>=1.0.1 in /usr/local/lib/python3.7/dist-packages (from matplotlib->japanize-matplotlib) (1.3.2)\n",
            "Requirement already satisfied: python-dateutil>=2.1 in /usr/local/lib/python3.7/dist-packages (from matplotlib->japanize-matplotlib) (2.8.2)\n",
            "Requirement already satisfied: numpy>=1.11 in /usr/local/lib/python3.7/dist-packages (from matplotlib->japanize-matplotlib) (1.21.5)\n",
            "Requirement already satisfied: cycler>=0.10 in /usr/local/lib/python3.7/dist-packages (from matplotlib->japanize-matplotlib) (0.11.0)\n",
            "Requirement already satisfied: six>=1.5 in /usr/local/lib/python3.7/dist-packages (from python-dateutil>=2.1->matplotlib->japanize-matplotlib) (1.15.0)\n",
            "Building wheels for collected packages: japanize-matplotlib\n",
            "  Building wheel for japanize-matplotlib (setup.py) ... \u001b[?25l\u001b[?25hdone\n",
            "  Created wheel for japanize-matplotlib: filename=japanize_matplotlib-1.1.3-py3-none-any.whl size=4120275 sha256=c3827cd9abb526b5313c1f5bbfe643053c1b16fef9a4882e7c956299b72abd55\n",
            "  Stored in directory: /root/.cache/pip/wheels/83/97/6b/e9e0cde099cc40f972b8dd23367308f7705ae06cd6d4714658\n",
            "Successfully built japanize-matplotlib\n",
            "Installing collected packages: japanize-matplotlib\n",
            "Successfully installed japanize-matplotlib-1.1.3\n"
          ]
        }
      ]
    },
    {
      "cell_type": "code",
      "source": [
        "! pip install optuna"
      ],
      "metadata": {
        "id": "Kom_yBq7Ib77",
        "colab": {
          "base_uri": "https://localhost:8080/"
        },
        "outputId": "2f727234-68f9-447f-ca57-dedbb91a8604"
      },
      "execution_count": 3,
      "outputs": [
        {
          "output_type": "stream",
          "name": "stdout",
          "text": [
            "Collecting optuna\n",
            "  Downloading optuna-2.10.0-py3-none-any.whl (308 kB)\n",
            "\u001b[K     |████████████████████████████████| 308 kB 13.2 MB/s \n",
            "\u001b[?25hRequirement already satisfied: sqlalchemy>=1.1.0 in /usr/local/lib/python3.7/dist-packages (from optuna) (1.4.31)\n",
            "Requirement already satisfied: numpy in /usr/local/lib/python3.7/dist-packages (from optuna) (1.21.5)\n",
            "Collecting cliff\n",
            "  Downloading cliff-3.10.1-py3-none-any.whl (81 kB)\n",
            "\u001b[K     |████████████████████████████████| 81 kB 10.1 MB/s \n",
            "\u001b[?25hRequirement already satisfied: packaging>=20.0 in /usr/local/lib/python3.7/dist-packages (from optuna) (21.3)\n",
            "Collecting alembic\n",
            "  Downloading alembic-1.7.6-py3-none-any.whl (210 kB)\n",
            "\u001b[K     |████████████████████████████████| 210 kB 58.2 MB/s \n",
            "\u001b[?25hRequirement already satisfied: scipy!=1.4.0 in /usr/local/lib/python3.7/dist-packages (from optuna) (1.4.1)\n",
            "Requirement already satisfied: PyYAML in /usr/local/lib/python3.7/dist-packages (from optuna) (3.13)\n",
            "Collecting colorlog\n",
            "  Downloading colorlog-6.6.0-py2.py3-none-any.whl (11 kB)\n",
            "Collecting cmaes>=0.8.2\n",
            "  Downloading cmaes-0.8.2-py3-none-any.whl (15 kB)\n",
            "Requirement already satisfied: tqdm in /usr/local/lib/python3.7/dist-packages (from optuna) (4.63.0)\n",
            "Requirement already satisfied: pyparsing!=3.0.5,>=2.0.2 in /usr/local/lib/python3.7/dist-packages (from packaging>=20.0->optuna) (3.0.7)\n",
            "Requirement already satisfied: importlib-metadata in /usr/local/lib/python3.7/dist-packages (from sqlalchemy>=1.1.0->optuna) (4.11.2)\n",
            "Requirement already satisfied: greenlet!=0.4.17 in /usr/local/lib/python3.7/dist-packages (from sqlalchemy>=1.1.0->optuna) (1.1.2)\n",
            "Requirement already satisfied: importlib-resources in /usr/local/lib/python3.7/dist-packages (from alembic->optuna) (5.4.0)\n",
            "Collecting Mako\n",
            "  Downloading Mako-1.1.6-py2.py3-none-any.whl (75 kB)\n",
            "\u001b[K     |████████████████████████████████| 75 kB 4.4 MB/s \n",
            "\u001b[?25hCollecting autopage>=0.4.0\n",
            "  Downloading autopage-0.5.0-py3-none-any.whl (29 kB)\n",
            "Collecting pbr!=2.1.0,>=2.0.0\n",
            "  Downloading pbr-5.8.1-py2.py3-none-any.whl (113 kB)\n",
            "\u001b[K     |████████████████████████████████| 113 kB 49.0 MB/s \n",
            "\u001b[?25hCollecting stevedore>=2.0.1\n",
            "  Downloading stevedore-3.5.0-py3-none-any.whl (49 kB)\n",
            "\u001b[K     |████████████████████████████████| 49 kB 5.7 MB/s \n",
            "\u001b[?25hCollecting cmd2>=1.0.0\n",
            "  Downloading cmd2-2.4.0-py3-none-any.whl (150 kB)\n",
            "\u001b[K     |████████████████████████████████| 150 kB 49.7 MB/s \n",
            "\u001b[?25hRequirement already satisfied: PrettyTable>=0.7.2 in /usr/local/lib/python3.7/dist-packages (from cliff->optuna) (3.1.1)\n",
            "Requirement already satisfied: wcwidth>=0.1.7 in /usr/local/lib/python3.7/dist-packages (from cmd2>=1.0.0->cliff->optuna) (0.2.5)\n",
            "Requirement already satisfied: typing-extensions in /usr/local/lib/python3.7/dist-packages (from cmd2>=1.0.0->cliff->optuna) (3.10.0.2)\n",
            "Collecting pyperclip>=1.6\n",
            "  Downloading pyperclip-1.8.2.tar.gz (20 kB)\n",
            "Requirement already satisfied: attrs>=16.3.0 in /usr/local/lib/python3.7/dist-packages (from cmd2>=1.0.0->cliff->optuna) (21.4.0)\n",
            "Requirement already satisfied: zipp>=0.5 in /usr/local/lib/python3.7/dist-packages (from importlib-metadata->sqlalchemy>=1.1.0->optuna) (3.7.0)\n",
            "Requirement already satisfied: MarkupSafe>=0.9.2 in /usr/local/lib/python3.7/dist-packages (from Mako->alembic->optuna) (2.0.1)\n",
            "Building wheels for collected packages: pyperclip\n",
            "  Building wheel for pyperclip (setup.py) ... \u001b[?25l\u001b[?25hdone\n",
            "  Created wheel for pyperclip: filename=pyperclip-1.8.2-py3-none-any.whl size=11137 sha256=81c620a8489a295acd1167978eb178ab909986cdd0d14448577a08efa788a878\n",
            "  Stored in directory: /root/.cache/pip/wheels/9f/18/84/8f69f8b08169c7bae2dde6bd7daf0c19fca8c8e500ee620a28\n",
            "Successfully built pyperclip\n",
            "Installing collected packages: pyperclip, pbr, stevedore, Mako, cmd2, autopage, colorlog, cmaes, cliff, alembic, optuna\n",
            "Successfully installed Mako-1.1.6 alembic-1.7.6 autopage-0.5.0 cliff-3.10.1 cmaes-0.8.2 cmd2-2.4.0 colorlog-6.6.0 optuna-2.10.0 pbr-5.8.1 pyperclip-1.8.2 stevedore-3.5.0\n"
          ]
        }
      ]
    },
    {
      "cell_type": "markdown",
      "source": [
        "# **1-2：インポートゾーン**"
      ],
      "metadata": {
        "id": "kM8mOnWQa1aY"
      }
    },
    {
      "cell_type": "code",
      "source": [
        "# ライブラリのインポート\n",
        "import pandas as pd\n",
        "import pandas_profiling\n",
        "import numpy as np\n",
        "import matplotlib.pyplot as plt\n",
        "import japanize_matplotlib\n",
        "import seaborn as sns\n",
        "import gc\n",
        "\n",
        "# LightGBMのインポート\n",
        "import lightgbm as lgb\n",
        "#import optuna.integration.lightgbm as lgb\n",
        "\n",
        "# scikitlearnから前処理用のライブラリのインポート\n",
        "from sklearn.model_selection import train_test_split\n",
        "from sklearn.preprocessing import LabelEncoder\n",
        "from sklearn.metrics import mean_squared_log_error\n",
        "from sklearn.metrics import r2_score\n",
        "from sklearn.model_selection import KFold\n",
        "\n",
        "# scikitlearnから評価用のライブラリをインポート\n",
        "from sklearn.metrics import accuracy_score, recall_score, precision_score, f1_score\n",
        "\n",
        "# 初期設定\n",
        "sns.set_style('whitegrid',{'linestyle.grid':'--'})\n",
        "%matplotlib inline"
      ],
      "metadata": {
        "id": "gRjTJzN0ezsQ"
      },
      "execution_count": 4,
      "outputs": []
    },
    {
      "cell_type": "markdown",
      "source": [
        "# **2-1:データセット読み込み**"
      ],
      "metadata": {
        "id": "Cf56sQx9a7hY"
      }
    },
    {
      "cell_type": "code",
      "source": [
        "train_df = pd.read_csv(\"/content/drive/MyDrive/PROBSPACE/minpaku/data/train_data.csv\", index_col='id')\n",
        "test_df = pd.read_csv(\"/content/drive/MyDrive/PROBSPACE/minpaku/data/test_data.csv\")\n",
        "\n",
        "train_df.shape, test_df.shape"
      ],
      "metadata": {
        "id": "YTyVriTabKhj",
        "colab": {
          "base_uri": "https://localhost:8080/"
        },
        "outputId": "edfb5fc9-b8f7-4225-cf6c-1525b050a747"
      },
      "execution_count": 82,
      "outputs": [
        {
          "output_type": "execute_result",
          "data": {
            "text/plain": [
              "((9990, 12), (4996, 12))"
            ]
          },
          "metadata": {},
          "execution_count": 82
        }
      ]
    },
    {
      "cell_type": "markdown",
      "source": [
        "# **2-2:データの加工**"
      ],
      "metadata": {
        "id": "rPcnp9yvgRPi"
      }
    },
    {
      "cell_type": "code",
      "source": [
        "#目的変数の定義\n",
        "target = train_df['y']"
      ],
      "metadata": {
        "id": "zjr3rFdH9NmT"
      },
      "execution_count": 83,
      "outputs": []
    },
    {
      "cell_type": "code",
      "source": [
        "#トレーニングデータとテストデータ合体\n",
        "'''\n",
        "トレーニングデータとテストデータを繋げることで\n",
        "前処理動作が簡単になる。\n",
        "'''\n",
        "data_df = pd.concat([train_df, test_df])\n",
        "data_df.drop(\"id\", axis=1,inplace=True)\n",
        "print(data_df.shape)\n",
        "data_df.head()"
      ],
      "metadata": {
        "id": "PNff3EOU9W0T",
        "colab": {
          "base_uri": "https://localhost:8080/",
          "height": 392
        },
        "outputId": "5caf70fc-462f-47c6-bc95-04223a3d50e9"
      },
      "execution_count": 84,
      "outputs": [
        {
          "output_type": "stream",
          "name": "stdout",
          "text": [
            "(14986, 12)\n"
          ]
        },
        {
          "output_type": "execute_result",
          "data": {
            "text/html": [
              "\n",
              "  <div id=\"df-5ed46db3-b652-4ee2-a890-9ec1d63a4792\">\n",
              "    <div class=\"colab-df-container\">\n",
              "      <div>\n",
              "<style scoped>\n",
              "    .dataframe tbody tr th:only-of-type {\n",
              "        vertical-align: middle;\n",
              "    }\n",
              "\n",
              "    .dataframe tbody tr th {\n",
              "        vertical-align: top;\n",
              "    }\n",
              "\n",
              "    .dataframe thead th {\n",
              "        text-align: right;\n",
              "    }\n",
              "</style>\n",
              "<table border=\"1\" class=\"dataframe\">\n",
              "  <thead>\n",
              "    <tr style=\"text-align: right;\">\n",
              "      <th></th>\n",
              "      <th>name</th>\n",
              "      <th>host_id</th>\n",
              "      <th>neighbourhood</th>\n",
              "      <th>latitude</th>\n",
              "      <th>longitude</th>\n",
              "      <th>room_type</th>\n",
              "      <th>minimum_nights</th>\n",
              "      <th>number_of_reviews</th>\n",
              "      <th>last_review</th>\n",
              "      <th>reviews_per_month</th>\n",
              "      <th>availability_365</th>\n",
              "      <th>y</th>\n",
              "    </tr>\n",
              "  </thead>\n",
              "  <tbody>\n",
              "    <tr>\n",
              "      <th>1</th>\n",
              "      <td>KiyosumiShirakawa 3min|★SkyTree★|WIFI|Max4|Tre...</td>\n",
              "      <td>242899459</td>\n",
              "      <td>Koto Ku</td>\n",
              "      <td>35.68185</td>\n",
              "      <td>139.80310</td>\n",
              "      <td>Entire home/apt</td>\n",
              "      <td>1</td>\n",
              "      <td>55</td>\n",
              "      <td>2020-04-25</td>\n",
              "      <td>2.21</td>\n",
              "      <td>173</td>\n",
              "      <td>12008.0</td>\n",
              "    </tr>\n",
              "    <tr>\n",
              "      <th>2</th>\n",
              "      <td>Downtown Tokyo Iriya next to Ueno</td>\n",
              "      <td>308879948</td>\n",
              "      <td>Taito Ku</td>\n",
              "      <td>35.72063</td>\n",
              "      <td>139.78536</td>\n",
              "      <td>Entire home/apt</td>\n",
              "      <td>6</td>\n",
              "      <td>72</td>\n",
              "      <td>2020-03-25</td>\n",
              "      <td>2.11</td>\n",
              "      <td>9</td>\n",
              "      <td>6667.0</td>\n",
              "    </tr>\n",
              "    <tr>\n",
              "      <th>3</th>\n",
              "      <td>Japan Style,Private,Affordable,4min to Sta.</td>\n",
              "      <td>300877823</td>\n",
              "      <td>Katsushika Ku</td>\n",
              "      <td>35.74723</td>\n",
              "      <td>139.82349</td>\n",
              "      <td>Entire home/apt</td>\n",
              "      <td>1</td>\n",
              "      <td>18</td>\n",
              "      <td>2020-03-23</td>\n",
              "      <td>3.46</td>\n",
              "      <td>288</td>\n",
              "      <td>9923.0</td>\n",
              "    </tr>\n",
              "    <tr>\n",
              "      <th>4</th>\n",
              "      <td>4 min to Shinjuku Sta. by train / 2 ppl / Wi-fi</td>\n",
              "      <td>236935461</td>\n",
              "      <td>Shibuya Ku</td>\n",
              "      <td>35.68456</td>\n",
              "      <td>139.68077</td>\n",
              "      <td>Entire home/apt</td>\n",
              "      <td>1</td>\n",
              "      <td>2</td>\n",
              "      <td>2020-04-02</td>\n",
              "      <td>1.76</td>\n",
              "      <td>87</td>\n",
              "      <td>8109.0</td>\n",
              "    </tr>\n",
              "    <tr>\n",
              "      <th>5</th>\n",
              "      <td>LICENSED SHINJUKU HOUSE: Heart of the action!</td>\n",
              "      <td>243408889</td>\n",
              "      <td>Shinjuku Ku</td>\n",
              "      <td>35.69840</td>\n",
              "      <td>139.70467</td>\n",
              "      <td>Entire home/apt</td>\n",
              "      <td>1</td>\n",
              "      <td>86</td>\n",
              "      <td>2020-01-30</td>\n",
              "      <td>2.00</td>\n",
              "      <td>156</td>\n",
              "      <td>100390.0</td>\n",
              "    </tr>\n",
              "  </tbody>\n",
              "</table>\n",
              "</div>\n",
              "      <button class=\"colab-df-convert\" onclick=\"convertToInteractive('df-5ed46db3-b652-4ee2-a890-9ec1d63a4792')\"\n",
              "              title=\"Convert this dataframe to an interactive table.\"\n",
              "              style=\"display:none;\">\n",
              "        \n",
              "  <svg xmlns=\"http://www.w3.org/2000/svg\" height=\"24px\"viewBox=\"0 0 24 24\"\n",
              "       width=\"24px\">\n",
              "    <path d=\"M0 0h24v24H0V0z\" fill=\"none\"/>\n",
              "    <path d=\"M18.56 5.44l.94 2.06.94-2.06 2.06-.94-2.06-.94-.94-2.06-.94 2.06-2.06.94zm-11 1L8.5 8.5l.94-2.06 2.06-.94-2.06-.94L8.5 2.5l-.94 2.06-2.06.94zm10 10l.94 2.06.94-2.06 2.06-.94-2.06-.94-.94-2.06-.94 2.06-2.06.94z\"/><path d=\"M17.41 7.96l-1.37-1.37c-.4-.4-.92-.59-1.43-.59-.52 0-1.04.2-1.43.59L10.3 9.45l-7.72 7.72c-.78.78-.78 2.05 0 2.83L4 21.41c.39.39.9.59 1.41.59.51 0 1.02-.2 1.41-.59l7.78-7.78 2.81-2.81c.8-.78.8-2.07 0-2.86zM5.41 20L4 18.59l7.72-7.72 1.47 1.35L5.41 20z\"/>\n",
              "  </svg>\n",
              "      </button>\n",
              "      \n",
              "  <style>\n",
              "    .colab-df-container {\n",
              "      display:flex;\n",
              "      flex-wrap:wrap;\n",
              "      gap: 12px;\n",
              "    }\n",
              "\n",
              "    .colab-df-convert {\n",
              "      background-color: #E8F0FE;\n",
              "      border: none;\n",
              "      border-radius: 50%;\n",
              "      cursor: pointer;\n",
              "      display: none;\n",
              "      fill: #1967D2;\n",
              "      height: 32px;\n",
              "      padding: 0 0 0 0;\n",
              "      width: 32px;\n",
              "    }\n",
              "\n",
              "    .colab-df-convert:hover {\n",
              "      background-color: #E2EBFA;\n",
              "      box-shadow: 0px 1px 2px rgba(60, 64, 67, 0.3), 0px 1px 3px 1px rgba(60, 64, 67, 0.15);\n",
              "      fill: #174EA6;\n",
              "    }\n",
              "\n",
              "    [theme=dark] .colab-df-convert {\n",
              "      background-color: #3B4455;\n",
              "      fill: #D2E3FC;\n",
              "    }\n",
              "\n",
              "    [theme=dark] .colab-df-convert:hover {\n",
              "      background-color: #434B5C;\n",
              "      box-shadow: 0px 1px 3px 1px rgba(0, 0, 0, 0.15);\n",
              "      filter: drop-shadow(0px 1px 2px rgba(0, 0, 0, 0.3));\n",
              "      fill: #FFFFFF;\n",
              "    }\n",
              "  </style>\n",
              "\n",
              "      <script>\n",
              "        const buttonEl =\n",
              "          document.querySelector('#df-5ed46db3-b652-4ee2-a890-9ec1d63a4792 button.colab-df-convert');\n",
              "        buttonEl.style.display =\n",
              "          google.colab.kernel.accessAllowed ? 'block' : 'none';\n",
              "\n",
              "        async function convertToInteractive(key) {\n",
              "          const element = document.querySelector('#df-5ed46db3-b652-4ee2-a890-9ec1d63a4792');\n",
              "          const dataTable =\n",
              "            await google.colab.kernel.invokeFunction('convertToInteractive',\n",
              "                                                     [key], {});\n",
              "          if (!dataTable) return;\n",
              "\n",
              "          const docLinkHtml = 'Like what you see? Visit the ' +\n",
              "            '<a target=\"_blank\" href=https://colab.research.google.com/notebooks/data_table.ipynb>data table notebook</a>'\n",
              "            + ' to learn more about interactive tables.';\n",
              "          element.innerHTML = '';\n",
              "          dataTable['output_type'] = 'display_data';\n",
              "          await google.colab.output.renderOutput(dataTable, element);\n",
              "          const docLink = document.createElement('div');\n",
              "          docLink.innerHTML = docLinkHtml;\n",
              "          element.appendChild(docLink);\n",
              "        }\n",
              "      </script>\n",
              "    </div>\n",
              "  </div>\n",
              "  "
            ],
            "text/plain": [
              "                                                name    host_id  \\\n",
              "1  KiyosumiShirakawa 3min|★SkyTree★|WIFI|Max4|Tre...  242899459   \n",
              "2                  Downtown Tokyo Iriya next to Ueno  308879948   \n",
              "3        Japan Style,Private,Affordable,4min to Sta.  300877823   \n",
              "4    4 min to Shinjuku Sta. by train / 2 ppl / Wi-fi  236935461   \n",
              "5      LICENSED SHINJUKU HOUSE: Heart of the action!  243408889   \n",
              "\n",
              "   neighbourhood  latitude  longitude        room_type  minimum_nights  \\\n",
              "1        Koto Ku  35.68185  139.80310  Entire home/apt               1   \n",
              "2       Taito Ku  35.72063  139.78536  Entire home/apt               6   \n",
              "3  Katsushika Ku  35.74723  139.82349  Entire home/apt               1   \n",
              "4     Shibuya Ku  35.68456  139.68077  Entire home/apt               1   \n",
              "5    Shinjuku Ku  35.69840  139.70467  Entire home/apt               1   \n",
              "\n",
              "   number_of_reviews last_review  reviews_per_month  availability_365  \\\n",
              "1                 55  2020-04-25               2.21               173   \n",
              "2                 72  2020-03-25               2.11                 9   \n",
              "3                 18  2020-03-23               3.46               288   \n",
              "4                  2  2020-04-02               1.76                87   \n",
              "5                 86  2020-01-30               2.00               156   \n",
              "\n",
              "          y  \n",
              "1   12008.0  \n",
              "2    6667.0  \n",
              "3    9923.0  \n",
              "4    8109.0  \n",
              "5  100390.0  "
            ]
          },
          "metadata": {},
          "execution_count": 84
        }
      ]
    },
    {
      "cell_type": "code",
      "source": [
        "# 今回使用する特徴量\n",
        "#columns = ['neighbourhood', 'room_type', 'minimum_nights', 'number_of_reviews']"
      ],
      "metadata": {
        "id": "sQ2YtoqUfVt8"
      },
      "execution_count": 85,
      "outputs": []
    },
    {
      "cell_type": "code",
      "source": [
        "#変更１区ごとにグルーピング\n",
        "data_df['group1'] = 0\n",
        "\n",
        "data_df.loc[(data_df['neighbourhood'] == 'Chuo Ku') | \n",
        "            (data_df['neighbourhood'] == 'Chiyoda Ku') |\n",
        "            (data_df['neighbourhood'] == 'Minato Ku') |\n",
        "            (data_df['neighbourhood'] == 'Shibuya Ku') |\n",
        "            (data_df['neighbourhood'] == 'Shinjyuku Ku'),\n",
        "            'group1'] = 1"
      ],
      "metadata": {
        "id": "lOt4BdDEdMAw"
      },
      "execution_count": 86,
      "outputs": []
    },
    {
      "cell_type": "code",
      "source": [
        "#変更１区ごとにグルーピング\n",
        "data_df['group2'] = 0\n",
        "\n",
        "data_df.loc[(data_df['neighbourhood'] == 'Toshima Ku') | \n",
        "            (data_df['neighbourhood'] == 'Taito Ku') |\n",
        "            (data_df['neighbourhood'] == 'Bunkyo Ku') |\n",
        "            (data_df['neighbourhood'] == 'Meguro Ku') |\n",
        "            (data_df['neighbourhood'] == 'Shinagawa Ku'),\n",
        "            'group2'] = 1"
      ],
      "metadata": {
        "id": "E568yNa9g_Sx"
      },
      "execution_count": 87,
      "outputs": []
    },
    {
      "cell_type": "code",
      "source": [
        "#変更１区ごとにグルーピング\n",
        "data_df['group3'] = 0\n",
        "\n",
        "data_df.loc[(data_df['neighbourhood'] == 'Nakano Ku') | \n",
        "            (data_df['neighbourhood'] == 'Setagaya Ku') |\n",
        "            (data_df['neighbourhood'] == 'Suginami Ku') |\n",
        "            (data_df['neighbourhood'] == 'Kita Ku') |\n",
        "            (data_df['neighbourhood'] == 'Arakawa Ku'),\n",
        "            'group3'] = 1"
      ],
      "metadata": {
        "id": "Xr0V7R6ohJ_Y"
      },
      "execution_count": 88,
      "outputs": []
    },
    {
      "cell_type": "code",
      "source": [
        "#変更１区ごとにグルーピング\n",
        "data_df['group4'] = 0\n",
        "\n",
        "data_df.loc[(data_df['neighbourhood'] == 'Koto Ku') | \n",
        "            (data_df['neighbourhood'] == 'Sumida Ku') |\n",
        "            (data_df['neighbourhood'] == 'Ota Ku') |\n",
        "            (data_df['neighbourhood'] == 'Itabashi Ku'),\n",
        "            'group4'] = 1"
      ],
      "metadata": {
        "id": "5xJMEF8HhUIT"
      },
      "execution_count": 89,
      "outputs": []
    },
    {
      "cell_type": "code",
      "source": [
        "#変更１区ごとにグルーピング\n",
        "data_df['group5'] = 0\n",
        "\n",
        "data_df.loc[(data_df['neighbourhood'] == 'Nerima Ku') | \n",
        "            (data_df['neighbourhood'] == 'Edogawa Ku') |\n",
        "            (data_df['neighbourhood'] == 'Adachi Ku') |\n",
        "            (data_df['neighbourhood'] == 'Itabashi Ku'),\n",
        "            'group5'] = 1"
      ],
      "metadata": {
        "id": "NitL8uUnhqUF"
      },
      "execution_count": 90,
      "outputs": []
    },
    {
      "cell_type": "code",
      "source": [
        "# 今回使用する特徴量\n",
        "columns = ['neighbourhood','room_type', 'minimum_nights', 'number_of_reviews','group1','group2','group3','group4','group5']"
      ],
      "metadata": {
        "id": "OyHFhAGFiBg_"
      },
      "execution_count": 91,
      "outputs": []
    },
    {
      "cell_type": "code",
      "source": [
        "# 説明変数定義\n",
        "data_df = pd.get_dummies(data_df[columns], drop_first=True)"
      ],
      "metadata": {
        "id": "lbpiJMY9iRFj"
      },
      "execution_count": 92,
      "outputs": []
    },
    {
      "cell_type": "code",
      "source": [
        "data_df.head()"
      ],
      "metadata": {
        "id": "lEhbRWuc_S2p",
        "colab": {
          "base_uri": "https://localhost:8080/",
          "height": 317
        },
        "outputId": "f7163cdb-79d5-4cbb-c07b-91be029463b4"
      },
      "execution_count": 93,
      "outputs": [
        {
          "output_type": "execute_result",
          "data": {
            "text/html": [
              "\n",
              "  <div id=\"df-c5ab161d-31e3-4fe4-8984-92151a596cbb\">\n",
              "    <div class=\"colab-df-container\">\n",
              "      <div>\n",
              "<style scoped>\n",
              "    .dataframe tbody tr th:only-of-type {\n",
              "        vertical-align: middle;\n",
              "    }\n",
              "\n",
              "    .dataframe tbody tr th {\n",
              "        vertical-align: top;\n",
              "    }\n",
              "\n",
              "    .dataframe thead th {\n",
              "        text-align: right;\n",
              "    }\n",
              "</style>\n",
              "<table border=\"1\" class=\"dataframe\">\n",
              "  <thead>\n",
              "    <tr style=\"text-align: right;\">\n",
              "      <th></th>\n",
              "      <th>minimum_nights</th>\n",
              "      <th>number_of_reviews</th>\n",
              "      <th>group1</th>\n",
              "      <th>group2</th>\n",
              "      <th>group3</th>\n",
              "      <th>group4</th>\n",
              "      <th>group5</th>\n",
              "      <th>neighbourhood_Arakawa Ku</th>\n",
              "      <th>neighbourhood_Bunkyo Ku</th>\n",
              "      <th>neighbourhood_Chiyoda Ku</th>\n",
              "      <th>...</th>\n",
              "      <th>neighbourhood_Shibuya Ku</th>\n",
              "      <th>neighbourhood_Shinagawa Ku</th>\n",
              "      <th>neighbourhood_Shinjuku Ku</th>\n",
              "      <th>neighbourhood_Suginami Ku</th>\n",
              "      <th>neighbourhood_Sumida Ku</th>\n",
              "      <th>neighbourhood_Taito Ku</th>\n",
              "      <th>neighbourhood_Toshima Ku</th>\n",
              "      <th>room_type_Hotel room</th>\n",
              "      <th>room_type_Private room</th>\n",
              "      <th>room_type_Shared room</th>\n",
              "    </tr>\n",
              "  </thead>\n",
              "  <tbody>\n",
              "    <tr>\n",
              "      <th>1</th>\n",
              "      <td>1</td>\n",
              "      <td>55</td>\n",
              "      <td>0</td>\n",
              "      <td>0</td>\n",
              "      <td>0</td>\n",
              "      <td>1</td>\n",
              "      <td>0</td>\n",
              "      <td>0</td>\n",
              "      <td>0</td>\n",
              "      <td>0</td>\n",
              "      <td>...</td>\n",
              "      <td>0</td>\n",
              "      <td>0</td>\n",
              "      <td>0</td>\n",
              "      <td>0</td>\n",
              "      <td>0</td>\n",
              "      <td>0</td>\n",
              "      <td>0</td>\n",
              "      <td>0</td>\n",
              "      <td>0</td>\n",
              "      <td>0</td>\n",
              "    </tr>\n",
              "    <tr>\n",
              "      <th>2</th>\n",
              "      <td>6</td>\n",
              "      <td>72</td>\n",
              "      <td>0</td>\n",
              "      <td>1</td>\n",
              "      <td>0</td>\n",
              "      <td>0</td>\n",
              "      <td>0</td>\n",
              "      <td>0</td>\n",
              "      <td>0</td>\n",
              "      <td>0</td>\n",
              "      <td>...</td>\n",
              "      <td>0</td>\n",
              "      <td>0</td>\n",
              "      <td>0</td>\n",
              "      <td>0</td>\n",
              "      <td>0</td>\n",
              "      <td>1</td>\n",
              "      <td>0</td>\n",
              "      <td>0</td>\n",
              "      <td>0</td>\n",
              "      <td>0</td>\n",
              "    </tr>\n",
              "    <tr>\n",
              "      <th>3</th>\n",
              "      <td>1</td>\n",
              "      <td>18</td>\n",
              "      <td>0</td>\n",
              "      <td>0</td>\n",
              "      <td>0</td>\n",
              "      <td>0</td>\n",
              "      <td>0</td>\n",
              "      <td>0</td>\n",
              "      <td>0</td>\n",
              "      <td>0</td>\n",
              "      <td>...</td>\n",
              "      <td>0</td>\n",
              "      <td>0</td>\n",
              "      <td>0</td>\n",
              "      <td>0</td>\n",
              "      <td>0</td>\n",
              "      <td>0</td>\n",
              "      <td>0</td>\n",
              "      <td>0</td>\n",
              "      <td>0</td>\n",
              "      <td>0</td>\n",
              "    </tr>\n",
              "    <tr>\n",
              "      <th>4</th>\n",
              "      <td>1</td>\n",
              "      <td>2</td>\n",
              "      <td>1</td>\n",
              "      <td>0</td>\n",
              "      <td>0</td>\n",
              "      <td>0</td>\n",
              "      <td>0</td>\n",
              "      <td>0</td>\n",
              "      <td>0</td>\n",
              "      <td>0</td>\n",
              "      <td>...</td>\n",
              "      <td>1</td>\n",
              "      <td>0</td>\n",
              "      <td>0</td>\n",
              "      <td>0</td>\n",
              "      <td>0</td>\n",
              "      <td>0</td>\n",
              "      <td>0</td>\n",
              "      <td>0</td>\n",
              "      <td>0</td>\n",
              "      <td>0</td>\n",
              "    </tr>\n",
              "    <tr>\n",
              "      <th>5</th>\n",
              "      <td>1</td>\n",
              "      <td>86</td>\n",
              "      <td>0</td>\n",
              "      <td>0</td>\n",
              "      <td>0</td>\n",
              "      <td>0</td>\n",
              "      <td>0</td>\n",
              "      <td>0</td>\n",
              "      <td>0</td>\n",
              "      <td>0</td>\n",
              "      <td>...</td>\n",
              "      <td>0</td>\n",
              "      <td>0</td>\n",
              "      <td>1</td>\n",
              "      <td>0</td>\n",
              "      <td>0</td>\n",
              "      <td>0</td>\n",
              "      <td>0</td>\n",
              "      <td>0</td>\n",
              "      <td>0</td>\n",
              "      <td>0</td>\n",
              "    </tr>\n",
              "  </tbody>\n",
              "</table>\n",
              "<p>5 rows × 32 columns</p>\n",
              "</div>\n",
              "      <button class=\"colab-df-convert\" onclick=\"convertToInteractive('df-c5ab161d-31e3-4fe4-8984-92151a596cbb')\"\n",
              "              title=\"Convert this dataframe to an interactive table.\"\n",
              "              style=\"display:none;\">\n",
              "        \n",
              "  <svg xmlns=\"http://www.w3.org/2000/svg\" height=\"24px\"viewBox=\"0 0 24 24\"\n",
              "       width=\"24px\">\n",
              "    <path d=\"M0 0h24v24H0V0z\" fill=\"none\"/>\n",
              "    <path d=\"M18.56 5.44l.94 2.06.94-2.06 2.06-.94-2.06-.94-.94-2.06-.94 2.06-2.06.94zm-11 1L8.5 8.5l.94-2.06 2.06-.94-2.06-.94L8.5 2.5l-.94 2.06-2.06.94zm10 10l.94 2.06.94-2.06 2.06-.94-2.06-.94-.94-2.06-.94 2.06-2.06.94z\"/><path d=\"M17.41 7.96l-1.37-1.37c-.4-.4-.92-.59-1.43-.59-.52 0-1.04.2-1.43.59L10.3 9.45l-7.72 7.72c-.78.78-.78 2.05 0 2.83L4 21.41c.39.39.9.59 1.41.59.51 0 1.02-.2 1.41-.59l7.78-7.78 2.81-2.81c.8-.78.8-2.07 0-2.86zM5.41 20L4 18.59l7.72-7.72 1.47 1.35L5.41 20z\"/>\n",
              "  </svg>\n",
              "      </button>\n",
              "      \n",
              "  <style>\n",
              "    .colab-df-container {\n",
              "      display:flex;\n",
              "      flex-wrap:wrap;\n",
              "      gap: 12px;\n",
              "    }\n",
              "\n",
              "    .colab-df-convert {\n",
              "      background-color: #E8F0FE;\n",
              "      border: none;\n",
              "      border-radius: 50%;\n",
              "      cursor: pointer;\n",
              "      display: none;\n",
              "      fill: #1967D2;\n",
              "      height: 32px;\n",
              "      padding: 0 0 0 0;\n",
              "      width: 32px;\n",
              "    }\n",
              "\n",
              "    .colab-df-convert:hover {\n",
              "      background-color: #E2EBFA;\n",
              "      box-shadow: 0px 1px 2px rgba(60, 64, 67, 0.3), 0px 1px 3px 1px rgba(60, 64, 67, 0.15);\n",
              "      fill: #174EA6;\n",
              "    }\n",
              "\n",
              "    [theme=dark] .colab-df-convert {\n",
              "      background-color: #3B4455;\n",
              "      fill: #D2E3FC;\n",
              "    }\n",
              "\n",
              "    [theme=dark] .colab-df-convert:hover {\n",
              "      background-color: #434B5C;\n",
              "      box-shadow: 0px 1px 3px 1px rgba(0, 0, 0, 0.15);\n",
              "      filter: drop-shadow(0px 1px 2px rgba(0, 0, 0, 0.3));\n",
              "      fill: #FFFFFF;\n",
              "    }\n",
              "  </style>\n",
              "\n",
              "      <script>\n",
              "        const buttonEl =\n",
              "          document.querySelector('#df-c5ab161d-31e3-4fe4-8984-92151a596cbb button.colab-df-convert');\n",
              "        buttonEl.style.display =\n",
              "          google.colab.kernel.accessAllowed ? 'block' : 'none';\n",
              "\n",
              "        async function convertToInteractive(key) {\n",
              "          const element = document.querySelector('#df-c5ab161d-31e3-4fe4-8984-92151a596cbb');\n",
              "          const dataTable =\n",
              "            await google.colab.kernel.invokeFunction('convertToInteractive',\n",
              "                                                     [key], {});\n",
              "          if (!dataTable) return;\n",
              "\n",
              "          const docLinkHtml = 'Like what you see? Visit the ' +\n",
              "            '<a target=\"_blank\" href=https://colab.research.google.com/notebooks/data_table.ipynb>data table notebook</a>'\n",
              "            + ' to learn more about interactive tables.';\n",
              "          element.innerHTML = '';\n",
              "          dataTable['output_type'] = 'display_data';\n",
              "          await google.colab.output.renderOutput(dataTable, element);\n",
              "          const docLink = document.createElement('div');\n",
              "          docLink.innerHTML = docLinkHtml;\n",
              "          element.appendChild(docLink);\n",
              "        }\n",
              "      </script>\n",
              "    </div>\n",
              "  </div>\n",
              "  "
            ],
            "text/plain": [
              "   minimum_nights  number_of_reviews  group1  group2  group3  group4  group5  \\\n",
              "1               1                 55       0       0       0       1       0   \n",
              "2               6                 72       0       1       0       0       0   \n",
              "3               1                 18       0       0       0       0       0   \n",
              "4               1                  2       1       0       0       0       0   \n",
              "5               1                 86       0       0       0       0       0   \n",
              "\n",
              "   neighbourhood_Arakawa Ku  neighbourhood_Bunkyo Ku  \\\n",
              "1                         0                        0   \n",
              "2                         0                        0   \n",
              "3                         0                        0   \n",
              "4                         0                        0   \n",
              "5                         0                        0   \n",
              "\n",
              "   neighbourhood_Chiyoda Ku  ...  neighbourhood_Shibuya Ku  \\\n",
              "1                         0  ...                         0   \n",
              "2                         0  ...                         0   \n",
              "3                         0  ...                         0   \n",
              "4                         0  ...                         1   \n",
              "5                         0  ...                         0   \n",
              "\n",
              "   neighbourhood_Shinagawa Ku  neighbourhood_Shinjuku Ku  \\\n",
              "1                           0                          0   \n",
              "2                           0                          0   \n",
              "3                           0                          0   \n",
              "4                           0                          0   \n",
              "5                           0                          1   \n",
              "\n",
              "   neighbourhood_Suginami Ku  neighbourhood_Sumida Ku  neighbourhood_Taito Ku  \\\n",
              "1                          0                        0                       0   \n",
              "2                          0                        0                       1   \n",
              "3                          0                        0                       0   \n",
              "4                          0                        0                       0   \n",
              "5                          0                        0                       0   \n",
              "\n",
              "   neighbourhood_Toshima Ku  room_type_Hotel room  room_type_Private room  \\\n",
              "1                         0                     0                       0   \n",
              "2                         0                     0                       0   \n",
              "3                         0                     0                       0   \n",
              "4                         0                     0                       0   \n",
              "5                         0                     0                       0   \n",
              "\n",
              "   room_type_Shared room  \n",
              "1                      0  \n",
              "2                      0  \n",
              "3                      0  \n",
              "4                      0  \n",
              "5                      0  \n",
              "\n",
              "[5 rows x 32 columns]"
            ]
          },
          "metadata": {},
          "execution_count": 93
        }
      ]
    },
    {
      "cell_type": "code",
      "source": [
        "data_df.info()"
      ],
      "metadata": {
        "id": "WB1imPx4_Xnu",
        "colab": {
          "base_uri": "https://localhost:8080/"
        },
        "outputId": "d1309847-3556-48b8-814f-461919d3b8f3"
      },
      "execution_count": 94,
      "outputs": [
        {
          "output_type": "stream",
          "name": "stdout",
          "text": [
            "<class 'pandas.core.frame.DataFrame'>\n",
            "Int64Index: 14986 entries, 1 to 4995\n",
            "Data columns (total 32 columns):\n",
            " #   Column                       Non-Null Count  Dtype\n",
            "---  ------                       --------------  -----\n",
            " 0   minimum_nights               14986 non-null  int64\n",
            " 1   number_of_reviews            14986 non-null  int64\n",
            " 2   group1                       14986 non-null  int64\n",
            " 3   group2                       14986 non-null  int64\n",
            " 4   group3                       14986 non-null  int64\n",
            " 5   group4                       14986 non-null  int64\n",
            " 6   group5                       14986 non-null  int64\n",
            " 7   neighbourhood_Arakawa Ku     14986 non-null  uint8\n",
            " 8   neighbourhood_Bunkyo Ku      14986 non-null  uint8\n",
            " 9   neighbourhood_Chiyoda Ku     14986 non-null  uint8\n",
            " 10  neighbourhood_Chuo Ku        14986 non-null  uint8\n",
            " 11  neighbourhood_Edogawa Ku     14986 non-null  uint8\n",
            " 12  neighbourhood_Itabashi Ku    14986 non-null  uint8\n",
            " 13  neighbourhood_Katsushika Ku  14986 non-null  uint8\n",
            " 14  neighbourhood_Kita Ku        14986 non-null  uint8\n",
            " 15  neighbourhood_Koto Ku        14986 non-null  uint8\n",
            " 16  neighbourhood_Meguro Ku      14986 non-null  uint8\n",
            " 17  neighbourhood_Minato Ku      14986 non-null  uint8\n",
            " 18  neighbourhood_Nakano Ku      14986 non-null  uint8\n",
            " 19  neighbourhood_Nerima Ku      14986 non-null  uint8\n",
            " 20  neighbourhood_Ota Ku         14986 non-null  uint8\n",
            " 21  neighbourhood_Setagaya Ku    14986 non-null  uint8\n",
            " 22  neighbourhood_Shibuya Ku     14986 non-null  uint8\n",
            " 23  neighbourhood_Shinagawa Ku   14986 non-null  uint8\n",
            " 24  neighbourhood_Shinjuku Ku    14986 non-null  uint8\n",
            " 25  neighbourhood_Suginami Ku    14986 non-null  uint8\n",
            " 26  neighbourhood_Sumida Ku      14986 non-null  uint8\n",
            " 27  neighbourhood_Taito Ku       14986 non-null  uint8\n",
            " 28  neighbourhood_Toshima Ku     14986 non-null  uint8\n",
            " 29  room_type_Hotel room         14986 non-null  uint8\n",
            " 30  room_type_Private room       14986 non-null  uint8\n",
            " 31  room_type_Shared room        14986 non-null  uint8\n",
            "dtypes: int64(7), uint8(25)\n",
            "memory usage: 1.3 MB\n"
          ]
        }
      ]
    },
    {
      "cell_type": "markdown",
      "source": [
        "# **2-3:データ再修正**"
      ],
      "metadata": {
        "id": "M4IbRNWM_i3Y"
      }
    },
    {
      "cell_type": "code",
      "source": [
        "# 分割\n",
        "train = data_df.iloc[:len(target), :]\n",
        "test = data_df.iloc[len(target):, :]\n",
        "\n",
        "#インデックス振り直し\n",
        "train = train.reset_index(drop=True)\n",
        "test = test.reset_index(drop=True)\n",
        "target = target.reset_index(drop=True)\n",
        "train.shape, test.shape"
      ],
      "metadata": {
        "id": "bXFjgUTX_p86",
        "colab": {
          "base_uri": "https://localhost:8080/"
        },
        "outputId": "6b17375e-94e9-49c8-d379-8a6c4260640e"
      },
      "execution_count": 95,
      "outputs": [
        {
          "output_type": "execute_result",
          "data": {
            "text/plain": [
              "((9990, 32), (4996, 32))"
            ]
          },
          "metadata": {},
          "execution_count": 95
        }
      ]
    },
    {
      "cell_type": "markdown",
      "source": [
        "# **3-1:モデルの構成**"
      ],
      "metadata": {
        "id": "QHVjAbpcgZ24"
      }
    },
    {
      "cell_type": "code",
      "source": [
        "# Kfold\n",
        "cv = KFold(n_splits=5, shuffle=True, random_state=2020)\n",
        "# RMSLE用\n",
        "score = 0\n",
        "# testデータの予測用\n",
        "pred = np.zeros(test_df.shape[0])"
      ],
      "metadata": {
        "id": "10JcVWPl7Icl"
      },
      "execution_count": 96,
      "outputs": []
    },
    {
      "cell_type": "code",
      "source": [
        "target = np.log1p(target)"
      ],
      "metadata": {
        "id": "HVNU4IKZ_5X_"
      },
      "execution_count": 97,
      "outputs": []
    },
    {
      "cell_type": "code",
      "source": [
        "params = {\n",
        "    'bagging_fraction': 0.9747075835171685,\n",
        " 'bagging_freq': 5,\n",
        " 'boosting_type': 'gbdt',\n",
        " 'feature_fraction': 1.0,\n",
        " 'feature_pre_filter': False,\n",
        " 'lambda_l1': 0.00031164378112968774,\n",
        " 'lambda_l2': 7.796109624576894e-07,\n",
        " 'learning_rate': 0.01,\n",
        " 'metric': 'rmse',\n",
        " 'min_child_samples': 5,\n",
        " 'n_jobs': -1,\n",
        " 'num_leaves': 55,\n",
        " 'objective': 'regression',\n",
        " 'seed': 20,\n",
        " 'verbose': -1\n",
        "}"
      ],
      "metadata": {
        "id": "ax5cc5oMABDF"
      },
      "execution_count": 98,
      "outputs": []
    },
    {
      "cell_type": "markdown",
      "source": [
        "'bagging_fraction': 0.9747075835171685,\n",
        " 'bagging_freq': 5,\n",
        " 'boosting_type': 'gbdt',\n",
        " 'feature_fraction': 1.0,\n",
        " 'feature_pre_filter': False,\n",
        " 'lambda_l1': 0.00031164378112968774,\n",
        " 'lambda_l2': 7.796109624576894e-07,\n",
        " 'learning_rate': 0.01,\n",
        " 'metric': 'rmse',\n",
        " 'min_child_samples': 5,\n",
        " 'n_jobs': -1,\n",
        " 'num_leaves': 55,\n",
        " 'objective': 'regression',\n",
        " 'seed': 20,\n",
        " 'verbose': -1"
      ],
      "metadata": {
        "id": "wpn4TtexXVAq"
      }
    },
    {
      "cell_type": "markdown",
      "source": [
        "# **3-2:モデルの学習**"
      ],
      "metadata": {
        "id": "z8hEJEJYiRka"
      }
    },
    {
      "cell_type": "code",
      "source": [
        "for tr_idx, val_idx in cv.split(train):\n",
        "    #trainとvalに分割\n",
        "    x_train, x_val = train.iloc[tr_idx], train.iloc[val_idx]\n",
        "    y_train, y_val = target[tr_idx], target[val_idx]\n",
        "    \n",
        "    # Datasetに入れて学習させる\n",
        "    train_set = lgb.Dataset(x_train, y_train)\n",
        "    val_set = lgb.Dataset(x_val, y_val, reference=train_set)\n",
        "        \n",
        "    # Training\n",
        "    model = lgb.train(params, \n",
        "                      train_set, \n",
        "                      num_boost_round=8000, \n",
        "                      early_stopping_rounds=100,\n",
        "                      valid_sets=[train_set, val_set], \n",
        "                      verbose_eval=500\n",
        "                      )\n",
        "    \n",
        "    \n",
        "    #テストデータを使った予測\n",
        "    # 予測したらexpで元に戻す\n",
        "    test_pred = np.expm1(model.predict(test))\n",
        "\n",
        "    # 0より小さな値があるとエラーになるので補正\n",
        "    test_pred = np.where(test_pred < 0, 0, test_pred)\n",
        "    pred += test_pred / 5  #  5fold回すので\n",
        "\n",
        "    #モデルの評価\n",
        "    oof = np.expm1(model.predict(x_val))\n",
        "    oof = np.where(oof < 0, 0, oof)\n",
        "\n",
        "    #trainとvalのRSMLE評価\n",
        "    rmsle = np.sqrt(mean_squared_log_error(np.expm1(y_val), oof))\n",
        "    print(f\"RMSLE : {rmsle}\")\n",
        "    print()\n",
        "\n",
        "    score += rmsle / 5 "
      ],
      "metadata": {
        "id": "-cFapJSB8Lhr",
        "colab": {
          "base_uri": "https://localhost:8080/"
        },
        "outputId": "3d70ed6e-8b45-4f6e-c24b-3cd44bc2ce6a"
      },
      "execution_count": 99,
      "outputs": [
        {
          "output_type": "stream",
          "name": "stdout",
          "text": [
            "Training until validation scores don't improve for 100 rounds.\n",
            "[500]\ttraining's rmse: 0.732732\tvalid_1's rmse: 0.767733\n",
            "Early stopping, best iteration is:\n",
            "[440]\ttraining's rmse: 0.737892\tvalid_1's rmse: 0.767077\n",
            "RMSLE : 0.7670773558479789\n",
            "\n",
            "Training until validation scores don't improve for 100 rounds.\n",
            "[500]\ttraining's rmse: 0.730846\tvalid_1's rmse: 0.783091\n",
            "Early stopping, best iteration is:\n",
            "[549]\ttraining's rmse: 0.727296\tvalid_1's rmse: 0.782616\n",
            "RMSLE : 0.7826158502901513\n",
            "\n",
            "Training until validation scores don't improve for 100 rounds.\n",
            "[500]\ttraining's rmse: 0.73059\tvalid_1's rmse: 0.777016\n",
            "Early stopping, best iteration is:\n",
            "[425]\ttraining's rmse: 0.736887\tvalid_1's rmse: 0.7769\n",
            "RMSLE : 0.776899564825634\n",
            "\n",
            "Training until validation scores don't improve for 100 rounds.\n",
            "[500]\ttraining's rmse: 0.713694\tvalid_1's rmse: 0.837535\n",
            "Early stopping, best iteration is:\n",
            "[520]\ttraining's rmse: 0.712111\tvalid_1's rmse: 0.837266\n",
            "RMSLE : 0.8372655567574069\n",
            "\n",
            "Training until validation scores don't improve for 100 rounds.\n",
            "[500]\ttraining's rmse: 0.730038\tvalid_1's rmse: 0.772876\n",
            "Early stopping, best iteration is:\n",
            "[573]\ttraining's rmse: 0.724908\tvalid_1's rmse: 0.772472\n",
            "RMSLE : 0.7724722696893164\n",
            "\n"
          ]
        }
      ]
    },
    {
      "cell_type": "code",
      "source": [
        "lgb.plot_importance(model, importance_type=\"gain\", max_num_features=20)"
      ],
      "metadata": {
        "id": "aQkl3xZgB7X2",
        "colab": {
          "base_uri": "https://localhost:8080/",
          "height": 313
        },
        "outputId": "0389ccae-2860-4d38-f6c6-29a6efe9bd28"
      },
      "execution_count": 100,
      "outputs": [
        {
          "output_type": "execute_result",
          "data": {
            "text/plain": [
              "<matplotlib.axes._subplots.AxesSubplot at 0x7ff2dac56fd0>"
            ]
          },
          "metadata": {},
          "execution_count": 100
        },
        {
          "output_type": "display_data",
          "data": {
            "image/png": "[encoded data removed]",
            "text/plain": [
              "<Figure size 432x288 with 1 Axes>"
            ]
          },
          "metadata": {
            "needs_background": "light"
          }
        }
      ]
    },
    {
      "cell_type": "code",
      "source": [
        "print(f\"Mean RMSLE SCORE :{score}\")"
      ],
      "metadata": {
        "id": "Q3NXvnmsCBQK",
        "colab": {
          "base_uri": "https://localhost:8080/"
        },
        "outputId": "cc8fcfd6-1773-41f0-c6f3-4393b2f2c80b"
      },
      "execution_count": 101,
      "outputs": [
        {
          "output_type": "stream",
          "name": "stdout",
          "text": [
            "Mean RMSLE SCORE :0.7872661194820976\n"
          ]
        }
      ]
    },
    {
      "cell_type": "code",
      "source": [
        "score = 0"
      ],
      "metadata": {
        "id": "KKa4vtlzWWlN"
      },
      "execution_count": 102,
      "outputs": []
    },
    {
      "cell_type": "code",
      "source": [
        "pred"
      ],
      "metadata": {
        "colab": {
          "base_uri": "https://localhost:8080/"
        },
        "id": "CcS2MZS9Wwta",
        "outputId": "6c90246a-000f-45dc-85be-6f1d0356a35e"
      },
      "execution_count": 103,
      "outputs": [
        {
          "output_type": "execute_result",
          "data": {
            "text/plain": [
              "array([15772.37463708, 14276.14822417, 12267.68231992, ...,\n",
              "       14564.06439651,  3000.53224818,  8172.38918322])"
            ]
          },
          "metadata": {},
          "execution_count": 103
        }
      ]
    },
    {
      "cell_type": "markdown",
      "source": [
        "# **4:結果提出**"
      ],
      "metadata": {
        "id": "p6qLHkyuCR2h"
      }
    },
    {
      "cell_type": "code",
      "source": [
        "submit_df = pd.DataFrame({\"y\": pred})\n",
        "submit_df.index.name = \"id\"\n",
        "submit_df.to_csv(\"/content/drive/MyDrive/PROBSPACE/minpaku/data/submission2-2-2.csv\")"
      ],
      "metadata": {
        "id": "DdaXZ246CRdX"
      },
      "execution_count": 104,
      "outputs": []
    }
  ]
}